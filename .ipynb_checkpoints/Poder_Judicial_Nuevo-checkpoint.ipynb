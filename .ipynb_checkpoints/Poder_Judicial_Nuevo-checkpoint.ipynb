{
 "cells": [
  {
   "cell_type": "code",
   "execution_count": 1,
   "metadata": {},
   "outputs": [],
   "source": [
    "# Descarga de frecuencia de delitos por jurisdiccion judicial en Chile.\n",
    "# Autor: Ian Meza\n",
    "# 24 de Septiembre del 2021\n",
    "\n",
    "# El término Gecko significa un motor de navegador web integrado en el navegador Mozilla Firefox. \n",
    "# El controlador Gecko actúa como un proxy entre los clientes habilitados para el controlador web \n",
    "#(Eclipse, Netbeans, etc.) y el navegador Mozilla Firefox. En resumen, el controlador Gecko actúa \n",
    "# como un enlace entre las pruebas del controlador web Selenium y el navegador Mozilla Firefox.\n",
    "\n",
    "# Antes de Selenium 3, el navegador Mozilla Firefox era el navegador predeterminado para Selenium. \n",
    "# Después de Selenium 3, los probadores deben inicializar el script para usar Firefox usando GeckoDriver \n",
    "# explícitamente. Selenium usa el protocolo W3C Webdriver para enviar solicitudes a GeckoDriver, que las \n",
    "# traduce a un protocolo llamado Marionette. Firefox comprenderá los comandos transmitidos en forma de \n",
    "# protocolo Marionette y los ejecutará.\n",
    "\n",
    "# https://www.guru99.com/gecko-marionette-driver-selenium.html\n",
    "from datetime import datetime\n",
    "from selenium import webdriver\n",
    "from selenium.webdriver.common.keys import Keys\n",
    "from selenium.webdriver.firefox.firefox_profile import FirefoxProfile\n",
    "from selenium.webdriver.firefox.options import Options\n",
    "import http.client, urllib.request, urllib.parse, urllib.error, base64\n",
    "import shutil\n",
    "import datetime\n",
    "from selenium.webdriver.support.ui import Select\n",
    "import time\n",
    "import pandas as pd\n",
    "import os"
   ]
  },
  {
   "cell_type": "code",
   "execution_count": 2,
   "metadata": {},
   "outputs": [],
   "source": [
    "def getDriver():\n",
    "    \n",
    "    #download_folder = \"C:/Users/Ian/Documents/GitHub/delitos_chile/Poder Judicial/Descargas\"\n",
    "    \n",
    "    # Options se ha importado desde Selenium\n",
    "    \n",
    "    options = Options()\n",
    "    options.set_preference(\"browser.download.dir\", r\"C:\\Users\\Ian\\Documents\\GitHub\\delitos_chile\\Poder Judicial\\Descargas\")\n",
    "    #options.set_preference(\"browser.download.folderList\", 2)\n",
    "    options.set_preference(\"browser.download.manager.showWhenStarting\", False)\n",
    "    options.set_preference(\"browser.helperApps.neverAsk.saveToDisk\", \"text/csv\") #, \"application/json\")\n",
    "    \n",
    "    #browser = webdriver.WebDriver(firefox_profile=profile)\n",
    "    #driver = webdriver.WebDriver(firefox_profile=profile)\n",
    "    driver = webdriver.Firefox(options=options)\n",
    "    driver.set_page_load_timeout(\"60\")\n",
    "    driver.get(\"https://www.pjud.cl/estadisticas/estadisticas-cortes-juzgados\")\n",
    "    return driver"
   ]
  },
  {
   "cell_type": "code",
   "execution_count": 3,
   "metadata": {},
   "outputs": [],
   "source": [
    "driver = getDriver()\n",
    "#driver"
   ]
  },
  {
   "cell_type": "code",
   "execution_count": 22,
   "metadata": {},
   "outputs": [
    {
     "name": "stdout",
     "output_type": "stream",
     "text": [
      "Corte De Apelaciones De Arica\n",
      "\n",
      "-Corte De Apelaciones De Arica\n",
      "--Ingresos\n",
      "---Agosto\n",
      "--Término de causas por materia y motivo de término\n",
      "---Agosto\n",
      "<-------------------------------------->\n",
      "-Tribunal De Juicio Oral En Lo Penal De Arica\n",
      "--Ingresos Causas Por Materia\n",
      "---Agosto\n",
      "--Ingresos Causas Por Rol\n",
      "---Agosto\n",
      "--Audiencias\n",
      "---Agosto\n",
      "--Terminos Por Materia\n",
      "---Agosto\n",
      "No existe información de estadísticas\n",
      "--Terminos Por Rol\n",
      "---Agosto\n",
      "No existe información de estadísticas\n",
      "--Sentencias Por Delito\n",
      "---Agosto\n",
      "<-------------------------------------->\n",
      "-1º Juzgado De Letras De Arica\n",
      "--Ingresos\n",
      "---Agosto\n",
      "--Término de causas por materia y motivo de término\n",
      "---Agosto\n",
      "<-------------------------------------->\n",
      "-2º Juzgado De Letras De Arica\n",
      "--Ingresos\n",
      "---Agosto\n",
      "--Término de causas por materia y motivo de término\n",
      "---Agosto\n",
      "<-------------------------------------->\n",
      "-3º Juzgado De Letras De Arica\n",
      "--Ingresos\n",
      "---Agosto\n",
      "--Término de causas por materia y motivo de término\n",
      "---Agosto\n",
      "<-------------------------------------->\n",
      "-4º Juzgado De Letras De Arica\n",
      "--Garantia\n"
     ]
    },
    {
     "ename": "NoSuchElementException",
     "evalue": "Message: Could not locate element with visible text: 2013\n",
     "output_type": "error",
     "traceback": [
      "\u001b[1;31m---------------------------------------------------------------------------\u001b[0m",
      "\u001b[1;31mNoSuchElementException\u001b[0m                    Traceback (most recent call last)",
      "\u001b[1;32m<ipython-input-22-aa51b43caaf9>\u001b[0m in \u001b[0;36m<module>\u001b[1;34m\u001b[0m\n\u001b[0;32m     76\u001b[0m                 \u001b[0mtam_inf\u001b[0m \u001b[1;33m=\u001b[0m \u001b[0mlen\u001b[0m\u001b[1;33m(\u001b[0m\u001b[0minf_list\u001b[0m\u001b[1;33m)\u001b[0m\u001b[1;33m\u001b[0m\u001b[1;33m\u001b[0m\u001b[0m\n\u001b[0;32m     77\u001b[0m                 \u001b[1;32mfor\u001b[0m \u001b[0ml\u001b[0m \u001b[1;32min\u001b[0m \u001b[0mrange\u001b[0m\u001b[1;33m(\u001b[0m\u001b[1;36m1\u001b[0m\u001b[1;33m,\u001b[0m\u001b[0mtam_inf\u001b[0m\u001b[1;33m)\u001b[0m\u001b[1;33m:\u001b[0m\u001b[1;33m\u001b[0m\u001b[1;33m\u001b[0m\u001b[0m\n\u001b[1;32m---> 78\u001b[1;33m                     \u001b[0msInf\u001b[0m\u001b[1;33m.\u001b[0m\u001b[0mselect_by_visible_text\u001b[0m\u001b[1;33m(\u001b[0m\u001b[1;34m''\u001b[0m\u001b[1;33m+\u001b[0m\u001b[0mvalorInf\u001b[0m\u001b[1;33m[\u001b[0m\u001b[0ml\u001b[0m\u001b[1;33m]\u001b[0m\u001b[1;33m.\u001b[0m\u001b[0mtext\u001b[0m\u001b[1;33m+\u001b[0m\u001b[1;34m''\u001b[0m\u001b[1;33m)\u001b[0m\u001b[1;33m\u001b[0m\u001b[1;33m\u001b[0m\u001b[0m\n\u001b[0m\u001b[0;32m     79\u001b[0m                     \u001b[0mnomInf\u001b[0m \u001b[1;33m=\u001b[0m \u001b[0mvalorInf\u001b[0m\u001b[1;33m[\u001b[0m\u001b[0ml\u001b[0m\u001b[1;33m]\u001b[0m\u001b[1;33m.\u001b[0m\u001b[0mtext\u001b[0m\u001b[1;33m\u001b[0m\u001b[1;33m\u001b[0m\u001b[0m\n\u001b[0;32m     80\u001b[0m                     \u001b[0mprint\u001b[0m\u001b[1;33m(\u001b[0m\u001b[1;34m\"---\"\u001b[0m\u001b[1;33m+\u001b[0m\u001b[0mvalorInf\u001b[0m\u001b[1;33m[\u001b[0m\u001b[0ml\u001b[0m\u001b[1;33m]\u001b[0m\u001b[1;33m.\u001b[0m\u001b[0mtext\u001b[0m\u001b[1;33m)\u001b[0m\u001b[1;33m\u001b[0m\u001b[1;33m\u001b[0m\u001b[0m\n",
      "\u001b[1;32m~\\anaconda3\\lib\\site-packages\\selenium\\webdriver\\support\\select.py\u001b[0m in \u001b[0;36mselect_by_visible_text\u001b[1;34m(self, text)\u001b[0m\n\u001b[0;32m    138\u001b[0m \u001b[1;33m\u001b[0m\u001b[0m\n\u001b[0;32m    139\u001b[0m         \u001b[1;32mif\u001b[0m \u001b[1;32mnot\u001b[0m \u001b[0mmatched\u001b[0m\u001b[1;33m:\u001b[0m\u001b[1;33m\u001b[0m\u001b[1;33m\u001b[0m\u001b[0m\n\u001b[1;32m--> 140\u001b[1;33m             \u001b[1;32mraise\u001b[0m \u001b[0mNoSuchElementException\u001b[0m\u001b[1;33m(\u001b[0m\u001b[1;34m\"Could not locate element with visible text: %s\"\u001b[0m \u001b[1;33m%\u001b[0m \u001b[0mtext\u001b[0m\u001b[1;33m)\u001b[0m\u001b[1;33m\u001b[0m\u001b[1;33m\u001b[0m\u001b[0m\n\u001b[0m\u001b[0;32m    141\u001b[0m \u001b[1;33m\u001b[0m\u001b[0m\n\u001b[0;32m    142\u001b[0m     \u001b[1;32mdef\u001b[0m \u001b[0mdeselect_all\u001b[0m\u001b[1;33m(\u001b[0m\u001b[0mself\u001b[0m\u001b[1;33m)\u001b[0m\u001b[1;33m:\u001b[0m\u001b[1;33m\u001b[0m\u001b[1;33m\u001b[0m\u001b[0m\n",
      "\u001b[1;31mNoSuchElementException\u001b[0m: Message: Could not locate element with visible text: 2013\n"
     ]
    }
   ],
   "source": [
    "#anios = ['2017', '2018', '2019','2021']\n",
    "anio = \"2021\"\n",
    "diccionario = [\"R15\",\"R1\",\"R2\",\"R3\",\"R4\",\"R5\",\"R131\",\"R132\",\"R6\",\"R7\",\"R16\",\"R8\",\"R9\",\"R14\",\"R10\",\"R11\",\"R12\"]\n",
    "\n",
    "element = driver.find_elements_by_tag_name('select')\n",
    "for i in range(1,18):\n",
    "    #element = driver.find_elements_by_tag_name('select')\n",
    "\n",
    "\n",
    "    #Nivel 1: Corte\n",
    "    corte = element[i]\n",
    "    valorCorte = corte.find_elements_by_tag_name(\"option\")\n",
    "    nomCorte = valorCorte[i].text\n",
    "    print(valorCorte[i].text)\n",
    "    time.sleep(2)\n",
    "    \n",
    "    select_box = driver.find_element_by_id(\"court_id\")\n",
    "    s1 = Select(select_box)\n",
    "    time.sleep(2)\n",
    "    s1.select_by_value(str(1))\n",
    "    time.sleep(2)\n",
    "\n",
    "    print()\n",
    "\n",
    "    #Nivel 2: Tribunal\n",
    "\n",
    "    select_box2 = driver.find_element_by_id(\"first_instance_court_id\")        \n",
    "    s2 = Select(select_box2)\n",
    "    time.sleep(2)\n",
    "\n",
    "    #Sacamos el tamaño de la lista de tribunales\n",
    "    tribunal = select_box2.text\n",
    "    res_list = (tribunal.rstrip().split('\\n'))\n",
    "    tam_trib = len(res_list)\n",
    "    element = driver.find_elements_by_tag_name('select')\n",
    "    tribunal = element[1]\n",
    "    valorTribunal = tribunal.find_elements_by_tag_name(\"option\")\n",
    "\n",
    "    for j in range(1,tam_trib):\n",
    "        s2.select_by_visible_text(''+valorTribunal[j].text+'')\n",
    "        nomTrib = valorTribunal[j].text\n",
    "        print(\"-\"+valorTribunal[j].text)\n",
    "        time.sleep(2)\n",
    "\n",
    "        element = driver.find_elements_by_tag_name('select')\n",
    "\n",
    "        #Nivel 3: Competencia (si existe)\n",
    "        if(len(element)==6):\n",
    "            select_box3 = driver.find_element_by_id(\"competence_id\")        \n",
    "            s3 = Select(select_box3)\n",
    "            time.sleep(2)\n",
    "            element = driver.find_elements_by_tag_name('select')\n",
    "            time.sleep(2)\n",
    "            compe = element[2]\n",
    "            valorCompe = compe.find_elements_by_tag_name(\"option\")        \n",
    "            competencia = select_box3.text\n",
    "            comp_list = (competencia.rstrip().split('\\n'))\n",
    "            tam_comp = len(comp_list)\n",
    "\n",
    "            for k in range(1,tam_comp):\n",
    "                s3.select_by_visible_text(''+valorCompe[k].text+'')\n",
    "                nomComp = valorCompe[k].text\n",
    "                print(\"--\"+valorCompe[k].text)\n",
    "                time.sleep(2)\n",
    "\n",
    "\n",
    "                #Nivel 4: Informe\n",
    "                select_box4 = driver.find_element_by_id(\"report_type_code\")        \n",
    "                sInf = Select(select_box4)\n",
    "                time.sleep(2)\n",
    "                element = driver.find_elements_by_tag_name('select')\n",
    "                Inf = element[4]\n",
    "                valorInf = Inf.find_elements_by_tag_name(\"option\")  \n",
    "                informe = select_box4.text\n",
    "                inf_list = (informe.rstrip().split('\\n'))\n",
    "                tam_inf = len(inf_list)         \n",
    "                for l in range(1,tam_inf):\n",
    "                    sInf.select_by_visible_text(''+valorInf[l].text+'')\n",
    "                    nomInf = valorInf[l].text\n",
    "                    print(\"---\"+valorInf[l].text)\n",
    "                    time.sleep(2)\n",
    "\n",
    "                    #Nivel 5: año\n",
    "                    time.sleep(5)\n",
    "                    select_box5 = driver.find_element_by_id(\"year\")\n",
    "                    time.sleep(2)\n",
    "                    s5 = Select(select_box5)\n",
    "                    s5.select_by_visible_text(anio)    \n",
    "\n",
    "                    element = driver.find_elements_by_tag_name('select')\n",
    "                    mes = element[2]\n",
    "                    valorMes = mes.find_elements_by_tag_name(\"option\")\n",
    "\n",
    "                    for m in range(7,8):\n",
    "                        # Nivel 6: mes\n",
    "\n",
    "                        select_box6 = driver.find_element_by_id(\"month\")\n",
    "\n",
    "                        s6 = Select(select_box6)\n",
    "                        s6.select_by_visible_text(''+valorMes[m].text+'')\n",
    "                        time.sleep(2)\n",
    "                        nomMes = valorMes[m].text\n",
    "                        print(\"----\"+valorMes[m].text)\n",
    "\n",
    "                        btnBuscar = driver.find_element_by_id(\"search-stats-button\")\n",
    "                        btnBuscar.click()\n",
    "                        time.sleep(5)\n",
    "                        driver.execute_script(\"window.scrollBy(0, 600)\")\n",
    "                        time.sleep(2)\n",
    "\n",
    "                        try:\n",
    "                            btnExcel = driver.find_element_by_xpath(\"/html/body/section/div/div[1]/div/div[2]/div/div/div/div/div/div/div[2]/div/div[2]/div/div/div[1]/button[1]\")\n",
    "                            btnExcel.click()\n",
    "                            time.sleep(3)\n",
    "                            driver.execute_script(\"window.scrollBy(0, -600)\")\n",
    "                        except:\n",
    "                            print(\"No hay botón de descarga\")\n",
    "\n",
    "                        if (btnExcel.text == \"Excel\"):\n",
    "                            btnExcel = driver.find_element_by_xpath(\"/html/body/section/div/div[1]/div/div[2]/div/div/div/div/div/div/div[2]/div/div[2]/div/div/div[1]/button[1]\")\n",
    "                            btnExcel.click()\n",
    "                            time.sleep(3)\n",
    "                            driver.execute_script(\"window.scrollBy(0, -600)\")\n",
    "\n",
    "                            src='C:/Users/Ian/Downloads/Poder Judicial - Estadisticas.xlsx'\n",
    "                            des=\"C:/Users/Ian/Documents/GitHub/delitos_chile/Poder Judicial/Descargas/\"+diccionario[i]+\"_\"+nomTrib+\"_\"+nomComp+\"_\"+nomInf+\"_\"+anio+\"-\"+nomMes+\".xlsx\"                    \n",
    "\n",
    "                            os.replace(src,des)\n",
    "\n",
    "                        else:\n",
    "                            driver.execute_script(\"window.scrollBy(0, -600)\")\n",
    "                            print(\"No existe información de estadísticas\")\n",
    "\n",
    "                        \n",
    "\n",
    "\n",
    "        #Nivel 4: Informe\n",
    "        else:\n",
    "            select_box4 = driver.find_element_by_id(\"report_type_code\")        \n",
    "\n",
    "            sInf = Select(select_box4)\n",
    "            time.sleep(2)\n",
    "            element = driver.find_elements_by_tag_name('select')\n",
    "            Inf = element[4]\n",
    "            valorInf = Inf.find_elements_by_tag_name(\"option\")  \n",
    "            informe = select_box4.text\n",
    "            inf_list = (informe.rstrip().split('\\n'))\n",
    "            tam_inf = len(inf_list)         \n",
    "            for l in range(1,tam_inf):\n",
    "                sInf.select_by_visible_text(''+valorInf[l].text+'')\n",
    "                nomInf = valorInf[l].text\n",
    "                print(\"--\"+valorInf[l].text)\n",
    "                time.sleep(2)\n",
    "\n",
    "                #Nivel 5: año\n",
    "                time.sleep(5)\n",
    "                select_box5 = driver.find_element_by_id(\"year\")\n",
    "                s5 = Select(select_box5)\n",
    "                s5.select_by_visible_text(anio)    \n",
    "\n",
    "                element = driver.find_elements_by_tag_name('select')\n",
    "                mes = element[2]\n",
    "                valorMes = mes.find_elements_by_tag_name(\"option\")\n",
    "\n",
    "                for m in range(7,8):\n",
    "                    # Nivel 6: mes\n",
    "\n",
    "                    select_box6 = driver.find_element_by_id(\"month\")\n",
    "\n",
    "                    s6 = Select(select_box6)\n",
    "                    s6.select_by_visible_text(''+valorMes[m].text+'')\n",
    "                    time.sleep(2)\n",
    "                    nomMes = valorMes[m].text\n",
    "                    print(\"---\"+valorMes[m].text)\n",
    "\n",
    "                    btnBuscar = driver.find_element_by_id(\"search-stats-button\")\n",
    "                    btnBuscar.click()\n",
    "                    time.sleep(5)\n",
    "                    driver.execute_script(\"window.scrollBy(0, 600)\")\n",
    "                    time.sleep(2)\n",
    "                    \n",
    "                    try:\n",
    "                        btnExcel = driver.find_element_by_xpath(\"/html/body/section/div/div[1]/div/div[2]/div/div/div/div/div/div/div[2]/div/div[2]/div/div/div[1]/button[1]\")\n",
    "                        btnExcel.click()\n",
    "                        time.sleep(3)\n",
    "                        driver.execute_script(\"window.scrollBy(0, -600)\")\n",
    "                        \n",
    "\n",
    "                        \n",
    "                        src='C:/Users/Ian/Downloads/Poder Judicial - Estadisticas.xlsx'\n",
    "                        des=\"C:/Users/Ian/Documents/GitHub/delitos_chile/Poder Judicial/Descargas/\"+diccionario[i]+\"_\"+nomTrib+\"_\"+nomInf+\"_\"+anio+\"-\"+nomMes+\".xlsx\"                    \n",
    "\n",
    "                        os.replace(src,des)\n",
    "                    except:\n",
    "                        print(\"No existe información de estadísticas\")\n",
    "                        driver.execute_script(\"window.scrollBy(0, -600)\")\n",
    "                        #warning = driver.find_element_by_xpath(\"/html/body/section/div/div[1]/div/div[2]/div/div/div/div/div/div/div/div\")\n",
    "                        \n",
    "                    #if (btnExcel.text == \"Excel\"):\n",
    "                       # btnExcel = driver.find_element_by_xpath(\"/html/body/section/div/div[1]/div/div[2]/div/div/div/div/div/div/div[2]/div/div[2]/div/div/div[1]/button[1]\")\n",
    "                       # btnExcel.click()\n",
    "                        #time.sleep(3)\n",
    "                        #driver.execute_script(\"window.scrollBy(0, -600)\")\n",
    "                        \n",
    "                    #else:\n",
    "                        #print(\"No existe información de estadísticas\")\n",
    "\n",
    "                    \n",
    "\n",
    "        print(\"<-------------------------------------->\")\n",
    "\n"
   ]
  },
  {
   "cell_type": "code",
   "execution_count": 9,
   "metadata": {},
   "outputs": [
    {
     "name": "stdout",
     "output_type": "stream",
     "text": [
      "No existe información de estadisticas\n"
     ]
    }
   ],
   "source": [
    "warning = driver.find_element_by_xpath(\"/html/body/section/div/div[1]/div/div[2]/div/div/div/div/div/div/div/div\")\n",
    "print(warning.text)\n"
   ]
  },
  {
   "cell_type": "code",
   "execution_count": 12,
   "metadata": {},
   "outputs": [
    {
     "data": {
      "text/plain": [
       "'Excel'"
      ]
     },
     "execution_count": 12,
     "metadata": {},
     "output_type": "execute_result"
    }
   ],
   "source": [
    "btnExcel = driver.find_element_by_xpath(\"/html/body/section/div/div[1]/div/div[2]/div/div/div/div/div/div/div[2]/div/div[2]/div/div/div[1]/button[1]\")\n",
    "btnExcel.text"
   ]
  },
  {
   "cell_type": "code",
   "execution_count": 43,
   "metadata": {},
   "outputs": [
    {
     "ename": "NoSuchElementException",
     "evalue": "Message: Unable to locate element: /html/asdfdsdasf\n",
     "output_type": "error",
     "traceback": [
      "\u001b[1;31m---------------------------------------------------------------------------\u001b[0m",
      "\u001b[1;31mNoSuchElementException\u001b[0m                    Traceback (most recent call last)",
      "\u001b[1;32m<ipython-input-43-c55304751552>\u001b[0m in \u001b[0;36m<module>\u001b[1;34m\u001b[0m\n\u001b[1;32m----> 1\u001b[1;33m \u001b[0mvacio\u001b[0m \u001b[1;33m=\u001b[0m \u001b[0mdriver\u001b[0m\u001b[1;33m.\u001b[0m\u001b[0mfind_element_by_xpath\u001b[0m\u001b[1;33m(\u001b[0m\u001b[1;34m\"/html/asdfdsdasf\"\u001b[0m\u001b[1;33m)\u001b[0m\u001b[1;33m\u001b[0m\u001b[1;33m\u001b[0m\u001b[0m\n\u001b[0m\u001b[0;32m      2\u001b[0m \u001b[0mvacio\u001b[0m\u001b[1;33m\u001b[0m\u001b[1;33m\u001b[0m\u001b[0m\n",
      "\u001b[1;32m~\\anaconda3\\lib\\site-packages\\selenium\\webdriver\\remote\\webdriver.py\u001b[0m in \u001b[0;36mfind_element_by_xpath\u001b[1;34m(self, xpath)\u001b[0m\n\u001b[0;32m    392\u001b[0m             \u001b[0melement\u001b[0m \u001b[1;33m=\u001b[0m \u001b[0mdriver\u001b[0m\u001b[1;33m.\u001b[0m\u001b[0mfind_element_by_xpath\u001b[0m\u001b[1;33m(\u001b[0m\u001b[1;34m'//div/td[1]'\u001b[0m\u001b[1;33m)\u001b[0m\u001b[1;33m\u001b[0m\u001b[1;33m\u001b[0m\u001b[0m\n\u001b[0;32m    393\u001b[0m         \"\"\"\n\u001b[1;32m--> 394\u001b[1;33m         \u001b[1;32mreturn\u001b[0m \u001b[0mself\u001b[0m\u001b[1;33m.\u001b[0m\u001b[0mfind_element\u001b[0m\u001b[1;33m(\u001b[0m\u001b[0mby\u001b[0m\u001b[1;33m=\u001b[0m\u001b[0mBy\u001b[0m\u001b[1;33m.\u001b[0m\u001b[0mXPATH\u001b[0m\u001b[1;33m,\u001b[0m \u001b[0mvalue\u001b[0m\u001b[1;33m=\u001b[0m\u001b[0mxpath\u001b[0m\u001b[1;33m)\u001b[0m\u001b[1;33m\u001b[0m\u001b[1;33m\u001b[0m\u001b[0m\n\u001b[0m\u001b[0;32m    395\u001b[0m \u001b[1;33m\u001b[0m\u001b[0m\n\u001b[0;32m    396\u001b[0m     \u001b[1;32mdef\u001b[0m \u001b[0mfind_elements_by_xpath\u001b[0m\u001b[1;33m(\u001b[0m\u001b[0mself\u001b[0m\u001b[1;33m,\u001b[0m \u001b[0mxpath\u001b[0m\u001b[1;33m)\u001b[0m\u001b[1;33m:\u001b[0m\u001b[1;33m\u001b[0m\u001b[1;33m\u001b[0m\u001b[0m\n",
      "\u001b[1;32m~\\anaconda3\\lib\\site-packages\\selenium\\webdriver\\remote\\webdriver.py\u001b[0m in \u001b[0;36mfind_element\u001b[1;34m(self, by, value)\u001b[0m\n\u001b[0;32m    974\u001b[0m                 \u001b[0mby\u001b[0m \u001b[1;33m=\u001b[0m \u001b[0mBy\u001b[0m\u001b[1;33m.\u001b[0m\u001b[0mCSS_SELECTOR\u001b[0m\u001b[1;33m\u001b[0m\u001b[1;33m\u001b[0m\u001b[0m\n\u001b[0;32m    975\u001b[0m                 \u001b[0mvalue\u001b[0m \u001b[1;33m=\u001b[0m \u001b[1;34m'[name=\"%s\"]'\u001b[0m \u001b[1;33m%\u001b[0m \u001b[0mvalue\u001b[0m\u001b[1;33m\u001b[0m\u001b[1;33m\u001b[0m\u001b[0m\n\u001b[1;32m--> 976\u001b[1;33m         return self.execute(Command.FIND_ELEMENT, {\n\u001b[0m\u001b[0;32m    977\u001b[0m             \u001b[1;34m'using'\u001b[0m\u001b[1;33m:\u001b[0m \u001b[0mby\u001b[0m\u001b[1;33m,\u001b[0m\u001b[1;33m\u001b[0m\u001b[1;33m\u001b[0m\u001b[0m\n\u001b[0;32m    978\u001b[0m             'value': value})['value']\n",
      "\u001b[1;32m~\\anaconda3\\lib\\site-packages\\selenium\\webdriver\\remote\\webdriver.py\u001b[0m in \u001b[0;36mexecute\u001b[1;34m(self, driver_command, params)\u001b[0m\n\u001b[0;32m    319\u001b[0m         \u001b[0mresponse\u001b[0m \u001b[1;33m=\u001b[0m \u001b[0mself\u001b[0m\u001b[1;33m.\u001b[0m\u001b[0mcommand_executor\u001b[0m\u001b[1;33m.\u001b[0m\u001b[0mexecute\u001b[0m\u001b[1;33m(\u001b[0m\u001b[0mdriver_command\u001b[0m\u001b[1;33m,\u001b[0m \u001b[0mparams\u001b[0m\u001b[1;33m)\u001b[0m\u001b[1;33m\u001b[0m\u001b[1;33m\u001b[0m\u001b[0m\n\u001b[0;32m    320\u001b[0m         \u001b[1;32mif\u001b[0m \u001b[0mresponse\u001b[0m\u001b[1;33m:\u001b[0m\u001b[1;33m\u001b[0m\u001b[1;33m\u001b[0m\u001b[0m\n\u001b[1;32m--> 321\u001b[1;33m             \u001b[0mself\u001b[0m\u001b[1;33m.\u001b[0m\u001b[0merror_handler\u001b[0m\u001b[1;33m.\u001b[0m\u001b[0mcheck_response\u001b[0m\u001b[1;33m(\u001b[0m\u001b[0mresponse\u001b[0m\u001b[1;33m)\u001b[0m\u001b[1;33m\u001b[0m\u001b[1;33m\u001b[0m\u001b[0m\n\u001b[0m\u001b[0;32m    322\u001b[0m             response['value'] = self._unwrap_value(\n\u001b[0;32m    323\u001b[0m                 response.get('value', None))\n",
      "\u001b[1;32m~\\anaconda3\\lib\\site-packages\\selenium\\webdriver\\remote\\errorhandler.py\u001b[0m in \u001b[0;36mcheck_response\u001b[1;34m(self, response)\u001b[0m\n\u001b[0;32m    240\u001b[0m                 \u001b[0malert_text\u001b[0m \u001b[1;33m=\u001b[0m \u001b[0mvalue\u001b[0m\u001b[1;33m[\u001b[0m\u001b[1;34m'alert'\u001b[0m\u001b[1;33m]\u001b[0m\u001b[1;33m.\u001b[0m\u001b[0mget\u001b[0m\u001b[1;33m(\u001b[0m\u001b[1;34m'text'\u001b[0m\u001b[1;33m)\u001b[0m\u001b[1;33m\u001b[0m\u001b[1;33m\u001b[0m\u001b[0m\n\u001b[0;32m    241\u001b[0m             \u001b[1;32mraise\u001b[0m \u001b[0mexception_class\u001b[0m\u001b[1;33m(\u001b[0m\u001b[0mmessage\u001b[0m\u001b[1;33m,\u001b[0m \u001b[0mscreen\u001b[0m\u001b[1;33m,\u001b[0m \u001b[0mstacktrace\u001b[0m\u001b[1;33m,\u001b[0m \u001b[0malert_text\u001b[0m\u001b[1;33m)\u001b[0m\u001b[1;33m\u001b[0m\u001b[1;33m\u001b[0m\u001b[0m\n\u001b[1;32m--> 242\u001b[1;33m         \u001b[1;32mraise\u001b[0m \u001b[0mexception_class\u001b[0m\u001b[1;33m(\u001b[0m\u001b[0mmessage\u001b[0m\u001b[1;33m,\u001b[0m \u001b[0mscreen\u001b[0m\u001b[1;33m,\u001b[0m \u001b[0mstacktrace\u001b[0m\u001b[1;33m)\u001b[0m\u001b[1;33m\u001b[0m\u001b[1;33m\u001b[0m\u001b[0m\n\u001b[0m\u001b[0;32m    243\u001b[0m \u001b[1;33m\u001b[0m\u001b[0m\n\u001b[0;32m    244\u001b[0m     \u001b[1;32mdef\u001b[0m \u001b[0m_value_or_default\u001b[0m\u001b[1;33m(\u001b[0m\u001b[0mself\u001b[0m\u001b[1;33m,\u001b[0m \u001b[0mobj\u001b[0m\u001b[1;33m,\u001b[0m \u001b[0mkey\u001b[0m\u001b[1;33m,\u001b[0m \u001b[0mdefault\u001b[0m\u001b[1;33m)\u001b[0m\u001b[1;33m:\u001b[0m\u001b[1;33m\u001b[0m\u001b[1;33m\u001b[0m\u001b[0m\n",
      "\u001b[1;31mNoSuchElementException\u001b[0m: Message: Unable to locate element: /html/asdfdsdasf\n"
     ]
    }
   ],
   "source": [
    "vacio = driver.find_element_by_xpath(\"/html/asdfdsdasf\")\n",
    "vacio"
   ]
  },
  {
   "cell_type": "code",
   "execution_count": 40,
   "metadata": {},
   "outputs": [
    {
     "name": "stdout",
     "output_type": "stream",
     "text": [
      "0\n",
      "1\n",
      "2\n",
      "3\n",
      "4\n",
      "5\n",
      "6\n",
      "7\n",
      "8\n",
      "9\n"
     ]
    }
   ],
   "source": [
    "flag = True\n",
    "i = 0\n",
    "while flag:\n",
    "    print(i)\n",
    "    i=i+1\n",
    "    if (i==10):\n",
    "        flag=False"
   ]
  },
  {
   "cell_type": "code",
   "execution_count": 11,
   "metadata": {},
   "outputs": [
    {
     "name": "stdout",
     "output_type": "stream",
     "text": [
      "R1\n"
     ]
    }
   ],
   "source": [
    "diccionario = [\"R15\",\"R1\",\"R2\",\"R3\",\"R4\",\"R5\",\"R131\",\"R132\",\"R6\",\"R7\",\"R16\",\"R8\",\"R9\",\"R14\",\"R10\",\"R11\",\"R12\"]\n",
    "#print(diccionario[1])"
   ]
  },
  {
   "cell_type": "code",
   "execution_count": 14,
   "metadata": {},
   "outputs": [
    {
     "name": "stdout",
     "output_type": "stream",
     "text": [
      "Selecciona un Tribunal\n",
      "Corte De Apelaciones De Arica\n",
      "Tribunal De Juicio Oral En Lo Penal De Arica\n",
      "1º Juzgado De Letras De Arica\n",
      "2º Juzgado De Letras De Arica\n",
      "3º Juzgado De Letras De Arica\n",
      "4º Juzgado De Letras De Arica\n",
      "Juzgado De Familia De Arica\n",
      "Juzgado De Letras Del Trabajo De Arica\n",
      "Juzgado De Garantia De Arica\n"
     ]
    }
   ],
   "source": [
    "print(element[1].text)"
   ]
  },
  {
   "cell_type": "code",
   "execution_count": 38,
   "metadata": {},
   "outputs": [],
   "source": [
    "src=\"C:/Users/Ian/Downloads/Poder Judicial - Estadisticas.xlsx\"\n",
    "des=\"C:/Users/Ian/Documents/GitHub/delitos_chile/Poder Judicial/Descargas/\"+nomCorte+\"_\"+nomTrib+\"_\"+nomInf+\"_\"+anio+\"-\"+nomMes+\".xlsx\"\n",
    "\n",
    "os.replace(src,des)"
   ]
  },
  {
   "cell_type": "code",
   "execution_count": 28,
   "metadata": {},
   "outputs": [
    {
     "data": {
      "text/plain": [
       "'t'"
      ]
     },
     "execution_count": 28,
     "metadata": {},
     "output_type": "execute_result"
    }
   ],
   "source": []
  },
  {
   "cell_type": "code",
   "execution_count": null,
   "metadata": {},
   "outputs": [],
   "source": [
    "ARICA R15\n",
    "IQUIQUE R1\n",
    "ANTOFAGASTA R2 COPIAPO R3\n",
    "LA SERENA R4\n",
    "VALPARAISO R5\n",
    "SANTIAGO R131\n",
    "SAN MIGUEL R132\n",
    "RANCAGUA R6\n",
    "TALCA R7\n",
    "CHILLAN R16\n",
    "CONCEPCION R8\n",
    "TEMUCO R9\n",
    "VALDIVIA R14\n",
    "PUERTO MONTT R10\n",
    "COYHAIQUE R11\n",
    "PUNTA ARENAS R12"
   ]
  },
  {
   "cell_type": "code",
   "execution_count": 109,
   "metadata": {},
   "outputs": [],
   "source": [
    "driver.execute_script(\"window.scrollBy(0, 600)\")\n",
    "time.sleep(2)\n",
    "                \n",
    "btnExcel = driver.find_element_by_xpath(\"/html/body/section/div/div[1]/div/div[2]/div/div/div/div/div/div/div[2]/div/div[2]/div/div/div[1]/button[1]\")\n",
    "btnExcel.click()\n",
    "time.sleep(3)\n",
    "\n",
    "driver.execute_script(\"window.scrollBy(0, -600)\")"
   ]
  },
  {
   "cell_type": "code",
   "execution_count": 6,
   "metadata": {},
   "outputs": [
    {
     "name": "stdout",
     "output_type": "stream",
     "text": [
      "Selecciona una Corte\n",
      "Corte De Apelaciones De Arica\n",
      "Corte De Apelaciones De Iquique\n",
      "Corte De Apelaciones De Antofagasta\n",
      "Corte De Apelaciones De Copiapo\n",
      "Corte De Apelaciones De La Serena\n",
      "Corte De Apelaciones De Valparaiso\n",
      "Corte De Apelaciones De Santiago\n",
      "Corte De Apelaciones De San Miguel\n",
      "Corte De Apelaciones De Rancagua\n",
      "Corte De Apelaciones De Talca\n",
      "Corte De Apelaciones De Chillan\n",
      "Corte De Apelaciones De Concepcion\n",
      "Corte De Apelaciones De Temuco\n",
      "Corte De Apelaciones De Valdivia\n",
      "Corte De Apelaciones De Puerto Montt\n",
      "Corte De Apelaciones De Coyhaique\n",
      "Corte De Apelaciones De Punta Arenas\n"
     ]
    }
   ],
   "source": [
    "element = driver.find_elements_by_tag_name('select')\n",
    "\n",
    "\n",
    "#Nivel 1: Corte\n",
    "corte = element[0]\n",
    "valorCorte = corte.find_elements_by_tag_name(\"option\")\n",
    "print(corte.text)\n"
   ]
  },
  {
   "cell_type": "code",
   "execution_count": 8,
   "metadata": {},
   "outputs": [
    {
     "ename": "StaleElementReferenceException",
     "evalue": "Message: The element reference of [object String] \"{\\\"element-6066-11e4-a52e-4f735466cecf\\\":\\\"99afaf33-43c5-4d82-bfea-729d43d39879\\\"}\" is stale; either the element is no longer attached to the DOM, it is not in the current frame context, or the document has been refreshed\n",
     "output_type": "error",
     "traceback": [
      "\u001b[1;31m---------------------------------------------------------------------------\u001b[0m",
      "\u001b[1;31mStaleElementReferenceException\u001b[0m            Traceback (most recent call last)",
      "\u001b[1;32m<ipython-input-8-0bc097f46b27>\u001b[0m in \u001b[0;36m<module>\u001b[1;34m\u001b[0m\n\u001b[1;32m----> 1\u001b[1;33m \u001b[0mtribunal\u001b[0m \u001b[1;33m=\u001b[0m \u001b[0mselect_box2\u001b[0m\u001b[1;33m.\u001b[0m\u001b[0mtext\u001b[0m\u001b[1;33m\u001b[0m\u001b[1;33m\u001b[0m\u001b[0m\n\u001b[0m\u001b[0;32m      2\u001b[0m \u001b[0mres_list\u001b[0m \u001b[1;33m=\u001b[0m \u001b[1;33m(\u001b[0m\u001b[0mtribunal\u001b[0m\u001b[1;33m.\u001b[0m\u001b[0mrstrip\u001b[0m\u001b[1;33m(\u001b[0m\u001b[1;33m)\u001b[0m\u001b[1;33m.\u001b[0m\u001b[0msplit\u001b[0m\u001b[1;33m(\u001b[0m\u001b[1;34m'\\n'\u001b[0m\u001b[1;33m)\u001b[0m\u001b[1;33m)\u001b[0m\u001b[1;33m\u001b[0m\u001b[1;33m\u001b[0m\u001b[0m\n\u001b[0;32m      3\u001b[0m \u001b[1;33m\u001b[0m\u001b[0m\n\u001b[0;32m      4\u001b[0m \u001b[0mtam_juzgados\u001b[0m \u001b[1;33m=\u001b[0m \u001b[0mlen\u001b[0m\u001b[1;33m(\u001b[0m\u001b[0mres_list\u001b[0m\u001b[1;33m)\u001b[0m\u001b[1;33m\u001b[0m\u001b[1;33m\u001b[0m\u001b[0m\n\u001b[0;32m      5\u001b[0m \u001b[0mprint\u001b[0m\u001b[1;33m(\u001b[0m\u001b[0mtam_juzgados\u001b[0m\u001b[1;33m)\u001b[0m\u001b[1;33m\u001b[0m\u001b[1;33m\u001b[0m\u001b[0m\n",
      "\u001b[1;32m~\\anaconda3\\lib\\site-packages\\selenium\\webdriver\\remote\\webelement.py\u001b[0m in \u001b[0;36mtext\u001b[1;34m(self)\u001b[0m\n\u001b[0;32m     74\u001b[0m     \u001b[1;32mdef\u001b[0m \u001b[0mtext\u001b[0m\u001b[1;33m(\u001b[0m\u001b[0mself\u001b[0m\u001b[1;33m)\u001b[0m\u001b[1;33m:\u001b[0m\u001b[1;33m\u001b[0m\u001b[1;33m\u001b[0m\u001b[0m\n\u001b[0;32m     75\u001b[0m         \u001b[1;34m\"\"\"The text of the element.\"\"\"\u001b[0m\u001b[1;33m\u001b[0m\u001b[1;33m\u001b[0m\u001b[0m\n\u001b[1;32m---> 76\u001b[1;33m         \u001b[1;32mreturn\u001b[0m \u001b[0mself\u001b[0m\u001b[1;33m.\u001b[0m\u001b[0m_execute\u001b[0m\u001b[1;33m(\u001b[0m\u001b[0mCommand\u001b[0m\u001b[1;33m.\u001b[0m\u001b[0mGET_ELEMENT_TEXT\u001b[0m\u001b[1;33m)\u001b[0m\u001b[1;33m[\u001b[0m\u001b[1;34m'value'\u001b[0m\u001b[1;33m]\u001b[0m\u001b[1;33m\u001b[0m\u001b[1;33m\u001b[0m\u001b[0m\n\u001b[0m\u001b[0;32m     77\u001b[0m \u001b[1;33m\u001b[0m\u001b[0m\n\u001b[0;32m     78\u001b[0m     \u001b[1;32mdef\u001b[0m \u001b[0mclick\u001b[0m\u001b[1;33m(\u001b[0m\u001b[0mself\u001b[0m\u001b[1;33m)\u001b[0m\u001b[1;33m:\u001b[0m\u001b[1;33m\u001b[0m\u001b[1;33m\u001b[0m\u001b[0m\n",
      "\u001b[1;32m~\\anaconda3\\lib\\site-packages\\selenium\\webdriver\\remote\\webelement.py\u001b[0m in \u001b[0;36m_execute\u001b[1;34m(self, command, params)\u001b[0m\n\u001b[0;32m    631\u001b[0m             \u001b[0mparams\u001b[0m \u001b[1;33m=\u001b[0m \u001b[1;33m{\u001b[0m\u001b[1;33m}\u001b[0m\u001b[1;33m\u001b[0m\u001b[1;33m\u001b[0m\u001b[0m\n\u001b[0;32m    632\u001b[0m         \u001b[0mparams\u001b[0m\u001b[1;33m[\u001b[0m\u001b[1;34m'id'\u001b[0m\u001b[1;33m]\u001b[0m \u001b[1;33m=\u001b[0m \u001b[0mself\u001b[0m\u001b[1;33m.\u001b[0m\u001b[0m_id\u001b[0m\u001b[1;33m\u001b[0m\u001b[1;33m\u001b[0m\u001b[0m\n\u001b[1;32m--> 633\u001b[1;33m         \u001b[1;32mreturn\u001b[0m \u001b[0mself\u001b[0m\u001b[1;33m.\u001b[0m\u001b[0m_parent\u001b[0m\u001b[1;33m.\u001b[0m\u001b[0mexecute\u001b[0m\u001b[1;33m(\u001b[0m\u001b[0mcommand\u001b[0m\u001b[1;33m,\u001b[0m \u001b[0mparams\u001b[0m\u001b[1;33m)\u001b[0m\u001b[1;33m\u001b[0m\u001b[1;33m\u001b[0m\u001b[0m\n\u001b[0m\u001b[0;32m    634\u001b[0m \u001b[1;33m\u001b[0m\u001b[0m\n\u001b[0;32m    635\u001b[0m     \u001b[1;32mdef\u001b[0m \u001b[0mfind_element\u001b[0m\u001b[1;33m(\u001b[0m\u001b[0mself\u001b[0m\u001b[1;33m,\u001b[0m \u001b[0mby\u001b[0m\u001b[1;33m=\u001b[0m\u001b[0mBy\u001b[0m\u001b[1;33m.\u001b[0m\u001b[0mID\u001b[0m\u001b[1;33m,\u001b[0m \u001b[0mvalue\u001b[0m\u001b[1;33m=\u001b[0m\u001b[1;32mNone\u001b[0m\u001b[1;33m)\u001b[0m\u001b[1;33m:\u001b[0m\u001b[1;33m\u001b[0m\u001b[1;33m\u001b[0m\u001b[0m\n",
      "\u001b[1;32m~\\anaconda3\\lib\\site-packages\\selenium\\webdriver\\remote\\webdriver.py\u001b[0m in \u001b[0;36mexecute\u001b[1;34m(self, driver_command, params)\u001b[0m\n\u001b[0;32m    319\u001b[0m         \u001b[0mresponse\u001b[0m \u001b[1;33m=\u001b[0m \u001b[0mself\u001b[0m\u001b[1;33m.\u001b[0m\u001b[0mcommand_executor\u001b[0m\u001b[1;33m.\u001b[0m\u001b[0mexecute\u001b[0m\u001b[1;33m(\u001b[0m\u001b[0mdriver_command\u001b[0m\u001b[1;33m,\u001b[0m \u001b[0mparams\u001b[0m\u001b[1;33m)\u001b[0m\u001b[1;33m\u001b[0m\u001b[1;33m\u001b[0m\u001b[0m\n\u001b[0;32m    320\u001b[0m         \u001b[1;32mif\u001b[0m \u001b[0mresponse\u001b[0m\u001b[1;33m:\u001b[0m\u001b[1;33m\u001b[0m\u001b[1;33m\u001b[0m\u001b[0m\n\u001b[1;32m--> 321\u001b[1;33m             \u001b[0mself\u001b[0m\u001b[1;33m.\u001b[0m\u001b[0merror_handler\u001b[0m\u001b[1;33m.\u001b[0m\u001b[0mcheck_response\u001b[0m\u001b[1;33m(\u001b[0m\u001b[0mresponse\u001b[0m\u001b[1;33m)\u001b[0m\u001b[1;33m\u001b[0m\u001b[1;33m\u001b[0m\u001b[0m\n\u001b[0m\u001b[0;32m    322\u001b[0m             response['value'] = self._unwrap_value(\n\u001b[0;32m    323\u001b[0m                 response.get('value', None))\n",
      "\u001b[1;32m~\\anaconda3\\lib\\site-packages\\selenium\\webdriver\\remote\\errorhandler.py\u001b[0m in \u001b[0;36mcheck_response\u001b[1;34m(self, response)\u001b[0m\n\u001b[0;32m    240\u001b[0m                 \u001b[0malert_text\u001b[0m \u001b[1;33m=\u001b[0m \u001b[0mvalue\u001b[0m\u001b[1;33m[\u001b[0m\u001b[1;34m'alert'\u001b[0m\u001b[1;33m]\u001b[0m\u001b[1;33m.\u001b[0m\u001b[0mget\u001b[0m\u001b[1;33m(\u001b[0m\u001b[1;34m'text'\u001b[0m\u001b[1;33m)\u001b[0m\u001b[1;33m\u001b[0m\u001b[1;33m\u001b[0m\u001b[0m\n\u001b[0;32m    241\u001b[0m             \u001b[1;32mraise\u001b[0m \u001b[0mexception_class\u001b[0m\u001b[1;33m(\u001b[0m\u001b[0mmessage\u001b[0m\u001b[1;33m,\u001b[0m \u001b[0mscreen\u001b[0m\u001b[1;33m,\u001b[0m \u001b[0mstacktrace\u001b[0m\u001b[1;33m,\u001b[0m \u001b[0malert_text\u001b[0m\u001b[1;33m)\u001b[0m\u001b[1;33m\u001b[0m\u001b[1;33m\u001b[0m\u001b[0m\n\u001b[1;32m--> 242\u001b[1;33m         \u001b[1;32mraise\u001b[0m \u001b[0mexception_class\u001b[0m\u001b[1;33m(\u001b[0m\u001b[0mmessage\u001b[0m\u001b[1;33m,\u001b[0m \u001b[0mscreen\u001b[0m\u001b[1;33m,\u001b[0m \u001b[0mstacktrace\u001b[0m\u001b[1;33m)\u001b[0m\u001b[1;33m\u001b[0m\u001b[1;33m\u001b[0m\u001b[0m\n\u001b[0m\u001b[0;32m    243\u001b[0m \u001b[1;33m\u001b[0m\u001b[0m\n\u001b[0;32m    244\u001b[0m     \u001b[1;32mdef\u001b[0m \u001b[0m_value_or_default\u001b[0m\u001b[1;33m(\u001b[0m\u001b[0mself\u001b[0m\u001b[1;33m,\u001b[0m \u001b[0mobj\u001b[0m\u001b[1;33m,\u001b[0m \u001b[0mkey\u001b[0m\u001b[1;33m,\u001b[0m \u001b[0mdefault\u001b[0m\u001b[1;33m)\u001b[0m\u001b[1;33m:\u001b[0m\u001b[1;33m\u001b[0m\u001b[1;33m\u001b[0m\u001b[0m\n",
      "\u001b[1;31mStaleElementReferenceException\u001b[0m: Message: The element reference of [object String] \"{\\\"element-6066-11e4-a52e-4f735466cecf\\\":\\\"99afaf33-43c5-4d82-bfea-729d43d39879\\\"}\" is stale; either the element is no longer attached to the DOM, it is not in the current frame context, or the document has been refreshed\n"
     ]
    }
   ],
   "source": [
    "tribunal = select_box2.text\n",
    "res_list = (tribunal.rstrip().split('\\n'))\n",
    "\n",
    "tam_juzgados = len(res_list)\n",
    "print(tam_juzgados)"
   ]
  },
  {
   "cell_type": "code",
   "execution_count": 9,
   "metadata": {},
   "outputs": [
    {
     "ename": "NameError",
     "evalue": "name 'anios' is not defined",
     "output_type": "error",
     "traceback": [
      "\u001b[1;31m---------------------------------------------------------------------------\u001b[0m",
      "\u001b[1;31mNameError\u001b[0m                                 Traceback (most recent call last)",
      "\u001b[1;32m<ipython-input-9-b58a94e45c02>\u001b[0m in \u001b[0;36m<module>\u001b[1;34m\u001b[0m\n\u001b[1;32m----> 1\u001b[1;33m \u001b[0manios\u001b[0m\u001b[1;33m[\u001b[0m\u001b[1;33m:\u001b[0m\u001b[1;33m:\u001b[0m\u001b[1;33m-\u001b[0m\u001b[1;36m1\u001b[0m\u001b[1;33m]\u001b[0m\u001b[1;33m\u001b[0m\u001b[1;33m\u001b[0m\u001b[0m\n\u001b[0m",
      "\u001b[1;31mNameError\u001b[0m: name 'anios' is not defined"
     ]
    }
   ],
   "source": [
    "anios[::-1]"
   ]
  },
  {
   "cell_type": "code",
   "execution_count": 73,
   "metadata": {},
   "outputs": [
    {
     "ename": "IndexError",
     "evalue": "list index out of range",
     "output_type": "error",
     "traceback": [
      "\u001b[1;31m---------------------------------------------------------------------------\u001b[0m",
      "\u001b[1;31mIndexError\u001b[0m                                Traceback (most recent call last)",
      "\u001b[1;32m<ipython-input-73-dc74eafed960>\u001b[0m in \u001b[0;36m<module>\u001b[1;34m\u001b[0m\n\u001b[0;32m      1\u001b[0m \u001b[1;32mfor\u001b[0m \u001b[0mi\u001b[0m \u001b[1;32min\u001b[0m \u001b[0mrange\u001b[0m\u001b[1;33m(\u001b[0m\u001b[1;36m1\u001b[0m\u001b[1;33m,\u001b[0m\u001b[1;36m18\u001b[0m\u001b[1;33m)\u001b[0m\u001b[1;33m:\u001b[0m\u001b[1;33m\u001b[0m\u001b[1;33m\u001b[0m\u001b[0m\n\u001b[0;32m      2\u001b[0m     \u001b[0melement\u001b[0m \u001b[1;33m=\u001b[0m \u001b[0mdriver\u001b[0m\u001b[1;33m.\u001b[0m\u001b[0mfind_elements_by_tag_name\u001b[0m\u001b[1;33m(\u001b[0m\u001b[1;34m\"select\"\u001b[0m\u001b[1;33m)\u001b[0m\u001b[1;33m\u001b[0m\u001b[1;33m\u001b[0m\u001b[0m\n\u001b[1;32m----> 3\u001b[1;33m     \u001b[0mtribs\u001b[0m \u001b[1;33m=\u001b[0m \u001b[0melement\u001b[0m\u001b[1;33m[\u001b[0m\u001b[0mi\u001b[0m\u001b[1;33m]\u001b[0m\u001b[1;33m\u001b[0m\u001b[1;33m\u001b[0m\u001b[0m\n\u001b[0m\u001b[0;32m      4\u001b[0m     \u001b[0mvalorTribs\u001b[0m \u001b[1;33m=\u001b[0m \u001b[0mtribs\u001b[0m\u001b[1;33m.\u001b[0m\u001b[0mfind_elements_by_tag_name\u001b[0m\u001b[1;33m(\u001b[0m\u001b[1;34m\"option\"\u001b[0m\u001b[1;33m)\u001b[0m\u001b[1;33m\u001b[0m\u001b[1;33m\u001b[0m\u001b[0m\n\u001b[0;32m      5\u001b[0m     \u001b[0mvalorTribs\u001b[0m\u001b[1;33m[\u001b[0m\u001b[1;36m1\u001b[0m\u001b[1;33m]\u001b[0m\u001b[1;33m.\u001b[0m\u001b[0mtext\u001b[0m\u001b[1;33m\u001b[0m\u001b[1;33m\u001b[0m\u001b[0m\n",
      "\u001b[1;31mIndexError\u001b[0m: list index out of range"
     ]
    }
   ],
   "source": [
    "for i in range(1,18):\n",
    "    element = driver.find_elements_by_tag_name(\"select\")\n",
    "    tribs = element[1]\n",
    "    valorTribs = tribs.find_elements_by_tag_name(\"option\")\n",
    "    valorTribs[1].text"
   ]
  },
  {
   "cell_type": "code",
   "execution_count": 88,
   "metadata": {},
   "outputs": [],
   "source": [
    "<select name=\"report_type_code\" class=\"custom-select m-b-5\" id=\"report_type_code\"><option value=\"\">Selecciona un tipo de Reporte</option><option value=\"ingresos_causas_por_procedimiento\">Ingresos Causas Por Procedimiento</option><option value=\"terminos\">Terminos</option><option value=\"sentencias_por_procedimiento\">Sentencias Por Procedimiento</option></select>"
   ]
  },
  {
   "cell_type": "code",
   "execution_count": null,
   "metadata": {},
   "outputs": [],
   "source": []
  },
  {
   "cell_type": "code",
   "execution_count": null,
   "metadata": {},
   "outputs": [],
   "source": []
  },
  {
   "cell_type": "code",
   "execution_count": 20,
   "metadata": {},
   "outputs": [
    {
     "ename": "SyntaxError",
     "evalue": "invalid syntax (<ipython-input-20-db1dab646159>, line 1)",
     "output_type": "error",
     "traceback": [
      "\u001b[1;36m  File \u001b[1;32m\"<ipython-input-20-db1dab646159>\"\u001b[1;36m, line \u001b[1;32m1\u001b[0m\n\u001b[1;33m    s1 = new Select(driver.findElement(By.name(\"court_id\")))\u001b[0m\n\u001b[1;37m             ^\u001b[0m\n\u001b[1;31mSyntaxError\u001b[0m\u001b[1;31m:\u001b[0m invalid syntax\n"
     ]
    }
   ],
   "source": [
    "select_box = driver.find_element_by_id(\"court_id\")\n",
    "valorCortes = cortes.find_elements_by_tag_name(\"option\")\n",
    "s1 = Select(select_box)\n",
    "s1.select_by_visible_text(cortes[1])"
   ]
  },
  {
   "cell_type": "code",
   "execution_count": null,
   "metadata": {},
   "outputs": [],
   "source": [
    "<select name=\"first_instance_court_id\" class=\"custom-select m-b-5\" id=\"first_instance_court_id\" onchange=\"javascript:getCompetenciesByFirstCourtId();\"><option value=\"\">Selecciona un Tribunal</option><option value=\"2011001#10\">Corte De Apelaciones De Arica                     </option><option value=\"2012001#988\">Tribunal De Juicio Oral En Lo Penal De Arica      </option><option value=\"2013301#2\">1º Juzgado De Letras De Arica                     </option><option value=\"2013302#3\">2º Juzgado De Letras De Arica                     </option><option value=\"2013303#4\">3º Juzgado De Letras De Arica                     </option><option value=\"2013304#5\">4º Juzgado De Letras De Arica                     </option><option value=\"2013601#1252\">Juzgado De Familia De Arica                       </option><option value=\"2013801#1333\">Juzgado De Letras Del Trabajo De Arica            </option><option value=\"2014001#992\">Juzgado De Garantia De Arica                      </option></select>"
   ]
  }
 ],
 "metadata": {
  "kernelspec": {
   "display_name": "Python 3",
   "language": "python",
   "name": "python3"
  },
  "language_info": {
   "codemirror_mode": {
    "name": "ipython",
    "version": 3
   },
   "file_extension": ".py",
   "mimetype": "text/x-python",
   "name": "python",
   "nbconvert_exporter": "python",
   "pygments_lexer": "ipython3",
   "version": "3.8.5"
  }
 },
 "nbformat": 4,
 "nbformat_minor": 4
}
